{
 "cells": [
  {
   "cell_type": "markdown",
   "metadata": {},
   "source": [
    "## Тема: Масштабирование признаков. Регуляризация. Стохастический градиентный спуск."
   ]
  },
  {
   "cell_type": "code",
   "execution_count": 1,
   "metadata": {},
   "outputs": [],
   "source": [
    "import numpy as np\n",
    "import matplotlib.pyplot as plt\n",
    "from sklearn import datasets\n",
    "\n",
    "import warnings\n",
    "warnings.filterwarnings('ignore')"
   ]
  },
  {
   "cell_type": "markdown",
   "metadata": {},
   "source": [
    "__Задача:__ предсказание баллов ЕГЭ ученика"
   ]
  },
  {
   "cell_type": "code",
   "execution_count": 2,
   "metadata": {},
   "outputs": [],
   "source": [
    "X = np.array([[   1,    1,  500,    1],\n",
    "              [   1,    1,  700,    1],\n",
    "              [   1,    2,  750,    2],\n",
    "              [   1,    5,  600,    1],\n",
    "              [   1,    3, 1450,    2],\n",
    "              [   1,    0,  800,    1],\n",
    "              [   1,    5, 1500,    3],\n",
    "              [   1,   10, 2000,    3],\n",
    "              [   1,    1,  450,    1],\n",
    "              [   1,    2, 1000,    2]])"
   ]
  },
  {
   "cell_type": "code",
   "execution_count": 3,
   "metadata": {},
   "outputs": [],
   "source": [
    "y = [45, 55, 50, 55, 60, 35, 75, 80, 50, 60]"
   ]
  },
  {
   "cell_type": "markdown",
   "metadata": {},
   "source": [
    "### 1. Постройте график зависимости весов всех признаков от lambda в самописной L2-регуляризации (на данных про ЕГЭ). Сделайте вывод"
   ]
  },
  {
   "cell_type": "code",
   "execution_count": 4,
   "metadata": {},
   "outputs": [],
   "source": [
    "def calc_mse(y, y_pred):\n",
    "    err = np.mean((y - y_pred)**2)\n",
    "    return err\n",
    "\n",
    "def standart_scale(X):\n",
    "    mean = X.mean()\n",
    "    std = X.std()\n",
    "    return (X - mean) / std"
   ]
  },
  {
   "cell_type": "code",
   "execution_count": 5,
   "metadata": {},
   "outputs": [
    {
     "data": {
      "text/plain": [
       "array([[ 1.        , -0.70710678, -0.97958969,  1.        ],\n",
       "       [ 1.        , -0.70710678, -0.56713087,  1.        ],\n",
       "       [ 1.        , -0.35355339, -0.46401617,  2.        ],\n",
       "       [ 1.        ,  0.70710678, -0.77336028,  1.        ],\n",
       "       [ 1.        ,  0.        ,  0.97958969,  2.        ],\n",
       "       [ 1.        , -1.06066017, -0.36090146,  1.        ],\n",
       "       [ 1.        ,  0.70710678,  1.08270439,  3.        ],\n",
       "       [ 1.        ,  2.47487373,  2.11385144,  3.        ],\n",
       "       [ 1.        , -0.70710678, -1.08270439,  1.        ],\n",
       "       [ 1.        , -0.35355339,  0.05155735,  2.        ]])"
      ]
     },
     "execution_count": 5,
     "metadata": {},
     "output_type": "execute_result"
    }
   ],
   "source": [
    "X_st = X.copy().astype(np.float64)\n",
    "X_st[:, 1] = standart_scale(X_st[:, 1])\n",
    "X_st[:, 2] = standart_scale(X_st[:, 2])\n",
    "X_st"
   ]
  },
  {
   "cell_type": "code",
   "execution_count": 6,
   "metadata": {},
   "outputs": [],
   "source": [
    "def gradient_descent_reg_l2(X, y, iterations, eta=1e-4, reg=1e-8):\n",
    "    W = np.random.randn(X.shape[1])\n",
    "    n = X.shape[0]\n",
    "    \n",
    "    for i in range(0, iterations):\n",
    "        y_pred = np.dot(X, W)\n",
    "        err = calc_mse(y, y_pred)\n",
    "        \n",
    "        dQ = 2/n * X.T @ (y_pred - y) # градиент функции ошибки\n",
    "        dReg = reg * W # градиент регуляризации\n",
    "        \n",
    "        W -= eta * dQ + dReg\n",
    "        \n",
    "    return W"
   ]
  },
  {
   "cell_type": "code",
   "execution_count": 14,
   "metadata": {},
   "outputs": [
    {
     "data": {
      "image/png": "[encoded data removed]",
      "text/plain": [
       "<Figure size 432x288 with 1 Axes>"
      ]
     },
     "metadata": {
      "needs_background": "light"
     },
     "output_type": "display_data"
    }
   ],
   "source": [
    "n = 30\n",
    "\n",
    "coeff_list = []\n",
    "lambda_list = np.logspace(-1, 2, n)\n",
    "\n",
    "for i, val in enumerate(lambda_list):\n",
    "    W = gradient_descent_reg_l2(X_st, y, iterations=5000, eta=1e-2, reg=val)\n",
    "    coeff_list.append(W)\n",
    "\n",
    "plt.plot(lambda_list, coeff_list)\n",
    "\n",
    "plt.title('Вывод: При увеличении коэффициента регуляции lambda \\n значения весов стремятся к нулю')\n",
    "plt.xlabel('lambda')\n",
    "plt.ylabel('Вес признака');"
   ]
  },
  {
   "cell_type": "markdown",
   "metadata": {},
   "source": [
    "### 2. Напишите функцию наподобие gradient_descent_reg_l2, но для применения L1-регуляризации."
   ]
  },
  {
   "cell_type": "code",
   "execution_count": 15,
   "metadata": {},
   "outputs": [],
   "source": [
    "def gradient_descent_reg_l1(X, y, iterations, eta=1e-4, reg=1e-8):\n",
    "    W1 = np.random.randn(X.shape[1])\n",
    "    n = X.shape[0]\n",
    "    \n",
    "    for i in range(0, iterations):\n",
    "        y_pred = np.dot(X, W1)\n",
    "        err = calc_mse(y, y_pred)\n",
    "        \n",
    "        dQ = 2/n * X.T @ (y_pred - y) # градиент функции ошибки\n",
    "#ИЗМЕНЕНО\n",
    "#         dReg = reg * W1 # градиент регуляризации\n",
    "        dReg = reg * W1/np.abs(W1)\n",
    "#ИЗМЕНЕНО\n",
    "        \n",
    "        W1 -= eta * dQ + dReg\n",
    "        \n",
    "        if i % (iterations / 10) == 0:\n",
    "            print(f'Iter: {i}, weights: {W1}, error {err}')\n",
    "    \n",
    "    print(f'Final MSE: {calc_mse(y, np.dot(X, W1))}')\n",
    "    return W1"
   ]
  },
  {
   "cell_type": "code",
   "execution_count": 16,
   "metadata": {},
   "outputs": [
    {
     "name": "stdout",
     "output_type": "stream",
     "text": [
      "Iter: 0, weights: [-1.34270996  0.00832019  0.36472815  2.95025309], error 3462.4530421125396\n",
      "Iter: 1500, weights: [30.56638915  6.18301034 -5.01234435 15.05996945], error 30.555391347414165\n",
      "Iter: 3000, weights: [37.18094888  6.24288773 -2.354749   11.27860603], error 25.95438864292127\n",
      "Iter: 4500, weights: [40.02912018  6.26388201 -1.20556694  9.65022797], error 25.10004480860628\n",
      "Iter: 6000, weights: [41.25609707  6.2729207  -0.71049989  8.94873127], error 24.941267212567375\n",
      "Iter: 7500, weights: [41.78467279  6.27681452 -0.49722739  8.64652987], error 24.91170376045879\n",
      "Iter: 9000, weights: [42.01238066  6.27849196 -0.40535063  8.51634297], error 24.906175543987878\n",
      "Iter: 10500, weights: [42.11047611  6.27921459 -0.36577056  8.46025908], error 24.905131629268887\n",
      "Iter: 12000, weights: [42.15273515  6.2795259  -0.34871966  8.43609842], error 24.904930156294018\n",
      "Iter: 13500, weights: [42.17094015  6.27966001 -0.34137421  8.42569012], error 24.904889432283518\n",
      "Final MSE: 24.904880438374487\n"
     ]
    }
   ],
   "source": [
    "W1 = gradient_descent_reg_l1(X_st, y, iterations=15000, eta=1e-2, reg=1e-4)"
   ]
  },
  {
   "cell_type": "markdown",
   "metadata": {},
   "source": [
    "### 3. *Можно ли к одному и тому же признаку применить сразу и нормализацию, и стандартизацию?"
   ]
  },
  {
   "cell_type": "markdown",
   "metadata": {},
   "source": [
    "Нормализация"
   ]
  },
  {
   "cell_type": "code",
   "execution_count": 17,
   "metadata": {},
   "outputs": [
    {
     "data": {
      "text/plain": [
       "array([0.03225806, 0.16129032, 0.19354839, 0.09677419, 0.64516129,\n",
       "       0.22580645, 0.67741935, 1.        , 0.        , 0.35483871])"
      ]
     },
     "execution_count": 17,
     "metadata": {},
     "output_type": "execute_result"
    }
   ],
   "source": [
    "def min_max_scale(X):\n",
    "    return (X - X.min()) / (X.max() - X.min())\n",
    "\n",
    "X_norm = X.copy().astype(np.float64)\n",
    "X_norm[:, 2] = min_max_scale(X_norm[:, 2])\n",
    "X_norm[:, 2]"
   ]
  },
  {
   "cell_type": "markdown",
   "metadata": {},
   "source": [
    "Стандартизация "
   ]
  },
  {
   "cell_type": "code",
   "execution_count": 7,
   "metadata": {},
   "outputs": [
    {
     "data": {
      "text/plain": [
       "array([-0.97958969, -0.56713087, -0.46401617, -0.77336028,  0.97958969,\n",
       "       -0.36090146,  1.08270439,  2.11385144, -1.08270439,  0.05155735])"
      ]
     },
     "execution_count": 7,
     "metadata": {},
     "output_type": "execute_result"
    }
   ],
   "source": [
    "def standart_scale(X):\n",
    "    mean = X.mean()\n",
    "    std = X.std()\n",
    "    return (X - mean) / std\n",
    "\n",
    "X_st = X.copy().astype(np.float64)\n",
    "X_st[:, 2] = standart_scale(X_st[:, 2]) \n",
    "X_st[:, 2]"
   ]
  },
  {
   "cell_type": "markdown",
   "metadata": {},
   "source": [
    "Стандартизация нормализованных данных"
   ]
  },
  {
   "cell_type": "code",
   "execution_count": 19,
   "metadata": {},
   "outputs": [
    {
     "data": {
      "text/plain": [
       "array([-0.97958969, -0.56713087, -0.46401617, -0.77336028,  0.97958969,\n",
       "       -0.36090146,  1.08270439,  2.11385144, -1.08270439,  0.05155735])"
      ]
     },
     "execution_count": 19,
     "metadata": {},
     "output_type": "execute_result"
    }
   ],
   "source": [
    "X_st_norm = X_norm.copy()\n",
    "X_st_norm[:,2] = standart_scale(X_st_norm[:,2])\n",
    "X_st_norm[:,2]"
   ]
  },
  {
   "cell_type": "markdown",
   "metadata": {},
   "source": [
    "**Вывод:** применить сразу к одному и тому же признаку и нормализацию, и стандартизацию можно. Но имеет смыла, т.к. стандартизация приводит к одному и тому же результату. "
   ]
  },
  {
   "cell_type": "markdown",
   "metadata": {},
   "source": [
    "### 4. *Сгенерируйте датасет при помощи <code>sklearn.datasets.make_regression</code> и обучите линейную модель при помощи градиентного и стохастического градиентного спуска. Нанесите среднеквадратичную ошибку для обоих методов на один график, сделайте выводы о разнице скорости сходимости каждого из методов."
   ]
  },
  {
   "cell_type": "code",
   "execution_count": 8,
   "metadata": {},
   "outputs": [],
   "source": [
    "# реализуем функцию, определяющую среднеквадратичную ошибку\n",
    "def mserror(X, w, y_pred):\n",
    "    y = X.dot(w)\n",
    "    return (sum((y - y_pred)**2)) / len(y)"
   ]
  },
  {
   "cell_type": "code",
   "execution_count": 9,
   "metadata": {},
   "outputs": [
    {
     "data": {
      "text/plain": [
       "array([[-2.75161769e-01,  3.88051923e-01],\n",
       "       [-7.39931870e-01,  6.41540019e-01],\n",
       "       [ 1.73259956e+00,  1.38746003e+00],\n",
       "       ...,\n",
       "       [ 9.95690738e-02,  1.14050425e+00],\n",
       "       [ 5.72821025e-01, -1.62061166e-03],\n",
       "       [-8.10975181e-01, -7.90286210e-01]])"
      ]
     },
     "metadata": {},
     "output_type": "display_data"
    },
    {
     "data": {
      "text/plain": [
       "array([-14.05893282, -38.97475249,  86.53592019, ...,  10.32003217,\n",
       "        29.28329989, -35.99295458])"
      ]
     },
     "metadata": {},
     "output_type": "display_data"
    },
    {
     "data": {
      "text/plain": [
       "array([47.46102593,  1.66486956])"
      ]
     },
     "metadata": {},
     "output_type": "display_data"
    }
   ],
   "source": [
    "# сгенерируем набор данных\n",
    "X, Y, coef = datasets.make_regression(n_samples=10000, n_features=2, n_informative=2, n_targets=1, \n",
    "                                      noise=5, coef=True, random_state=2)\n",
    "display(X, Y, coef)"
   ]
  },
  {
   "cell_type": "code",
   "execution_count": 10,
   "metadata": {},
   "outputs": [],
   "source": [
    "# скорость обучения\n",
    "eta = 0.01\n",
    "\n",
    "# максимальное число итераций\n",
    "max_iter = 1000\n",
    "\n",
    "# критерий сходимости (разница весов, при которой алгоритм останавливается)\n",
    "min_weight_dist = 1e-3"
   ]
  },
  {
   "cell_type": "markdown",
   "metadata": {},
   "source": [
    "**Градиентный спуск**"
   ]
  },
  {
   "cell_type": "code",
   "execution_count": 11,
   "metadata": {},
   "outputs": [
    {
     "name": "stdout",
     "output_type": "stream",
     "text": [
      "Iteration #0: W_new = [0.94093576 0.04602875], MSE = 2174.92\n",
      "Iteration #100: W_new = [41.19041837  1.59716433], MSE = 64.38\n",
      "Iteration #200: W_new = [46.63041829  1.65124522], MSE = 25.89\n",
      "Iteration #300: W_new = [47.36621705  1.63899902], MSE = 25.19\n",
      "Iter 344: error - 25.179049874139285, weights: [47.43265095  1.63650298]\n",
      "В случае использования градиентного спуска функционал ошибки составляет 25.179\n",
      "Wall time: 1.51 s\n"
     ]
    }
   ],
   "source": [
    "%%time\n",
    "# инициализируем начальный вектор весов\n",
    "w = np.zeros(X.shape[1]) \n",
    "\n",
    "# список векторов весов после каждой итерации\n",
    "w_list = [w.copy()]\n",
    "\n",
    "# список значений ошибок после каждой итерации\n",
    "errors = []\n",
    "\n",
    "# список произведенных операций\n",
    "iter_nums = []\n",
    "\n",
    "# зададим начальную разницу весов большим числом\n",
    "weight_dist = np.inf\n",
    "\n",
    "# счетчик итераций\n",
    "iter_num = 0\n",
    "\n",
    "# ход градиентного спуска\n",
    "while weight_dist > min_weight_dist and iter_num < max_iter:\n",
    "    y_pred = np.dot(X, w)\n",
    "    new_w = w - eta * (2 / Y.shape[0] * np.dot(X.T, y_pred - Y))\n",
    "    weight_dist = np.linalg.norm(new_w - w, ord=2)\n",
    "    error = mserror(X, new_w, Y)\n",
    "    \n",
    "    w_list.append(new_w.copy())\n",
    "    errors.append(error.copy())\n",
    "    iter_nums.append(iter_num)\n",
    "    \n",
    "    if iter_num % 100 == 0:\n",
    "        print(f'Iteration #{iter_num}: W_new = {new_w}, MSE = {round(error, 2)}')\n",
    "    \n",
    "    iter_num += 1\n",
    "    w = new_w\n",
    "    \n",
    "w_list = np.array(w_list)\n",
    "errors = np.array(errors)\n",
    "iter_nums = np.array(iter_nums)\n",
    "\n",
    "print(f'Iter {iter_num}: error - {error}, weights: {new_w}')\n",
    "print(f'В случае использования градиентного спуска функционал ошибки составляет {round(errors[-1], 4)}')"
   ]
  },
  {
   "cell_type": "markdown",
   "metadata": {},
   "source": [
    "**Стахостический градиентный спуск**"
   ]
  },
  {
   "cell_type": "code",
   "execution_count": 12,
   "metadata": {},
   "outputs": [
    {
     "name": "stdout",
     "output_type": "stream",
     "text": [
      "Iteration #0: W_new = [ 0.00032916 -0.01709123], MSE = 2262.83\n",
      "Iteration #100: W_new = [40.11077384  1.51748526], MSE = 79.02\n",
      "Iteration #200: W_new = [46.76274185  1.6330557 ], MSE = 25.69\n",
      "Iter 222: error - 26.3530644505948, weights: [46.83767711  2.50597989]\n",
      "В случае использования стохастического градиентного спуска ошибка составляет 26.3531\n",
      "Wall time: 936 ms\n"
     ]
    }
   ],
   "source": [
    "%%time\n",
    "# инициализируем начальный вектор весов\n",
    "w_s = np.zeros(X.shape[1])\n",
    "\n",
    "# список векторов весов после каждой итерации\n",
    "w_list_s = [w.copy()]\n",
    "\n",
    "# список значений ошибок после каждой итерации\n",
    "errors_s = []\n",
    "\n",
    "# список произведенных операций\n",
    "iter_nums_s = []\n",
    "\n",
    "# зададим начальную разницу весов большим числом\n",
    "weight_dist_s = np.inf\n",
    "\n",
    "# счетчик итераций\n",
    "iter_num_s = 0\n",
    "\n",
    "np.random.seed(1234)\n",
    "\n",
    "# ход градиентного спуска\n",
    "while weight_dist_s > min_weight_dist and iter_num_s < max_iter:\n",
    "    \n",
    "    # генерируем случайный индекс объекта выборки\n",
    "    train_ind = np.random.randint(X.shape[0], size=1)\n",
    "    \n",
    "    y_pred_s = np.dot(X[train_ind], w_s)\n",
    "    new_w_s = w_s - eta * 2 / Y[train_ind].shape[0] * np.dot(X[train_ind].T, y_pred_s - Y[train_ind])\n",
    "\n",
    "    weight_dist_s = np.linalg.norm(new_w_s - w_s, ord=2)\n",
    "\n",
    "    error_s = mserror(X, new_w_s, Y)\n",
    "    \n",
    "    w_list_s.append(new_w_s.copy())\n",
    "    errors_s.append(error_s.copy())\n",
    "    iter_nums_s.append(iter_num_s)\n",
    "    \n",
    "    if iter_num_s % 100 == 0:\n",
    "        print(f'Iteration #{iter_num_s}: W_new = {new_w_s}, MSE = {round(error_s, 2)}')\n",
    "\n",
    "    iter_num_s += 1\n",
    "    w_s = new_w_s\n",
    "    \n",
    "w_list_s = np.array(w_list_s)\n",
    "errors_s = np.array(errors_s)\n",
    "iter_nums_s = np.array(iter_nums_s)\n",
    "\n",
    "print(f'Iter {iter_num_s}: error - {error_s}, weights: {new_w_s}')\n",
    "print(f'В случае использования стохастического градиентного спуска ошибка составляет {round(errors_s[-1], 4)}')"
   ]
  },
  {
   "cell_type": "code",
   "execution_count": 17,
   "metadata": {
    "scrolled": true
   },
   "outputs": [
    {
     "data": {
      "image/png": "[encoded data removed]",
      "text/plain": [
       "<Figure size 936x432 with 1 Axes>"
      ]
     },
     "metadata": {
      "needs_background": "light"
     },
     "output_type": "display_data"
    }
   ],
   "source": [
    "# Визуализируем изменение весов (красной точкой обозначены истинные веса, сгенерированные вначале)\n",
    "plt.figure(figsize=(13, 6))\n",
    "plt.title('Gradient descent & Stochastic gradient descent')\n",
    "plt.xlabel(r'errors')\n",
    "plt.ylabel(r'iteration')\n",
    "plt.ylim(-1, 6)\n",
    "plt.xlim(-10, 300)\n",
    "\n",
    "plt.scatter(iter_nums, standart_scale(errors))\n",
    "plt.plot(iter_nums, standart_scale(errors), label='GD')\n",
    "\n",
    "plt.scatter(iter_nums_s, standart_scale(errors_s), c='g')\n",
    "plt.plot(iter_nums_s, standart_scale(errors_s), c='g', label='SGD')\n",
    "\n",
    "plt.legend()\n",
    "plt.show()"
   ]
  },
  {
   "cell_type": "markdown",
   "metadata": {},
   "source": [
    "**Вывод**: на сгенерированных данных (2 параметра, 10000 строк) скорость сходимости метода Стохастический градиентный спуск (977 ms) значительно лучше, чем метода Градиентный спуск (1.39 s). "
   ]
  },
  {
   "cell_type": "code",
   "execution_count": null,
   "metadata": {},
   "outputs": [],
   "source": []
  }
 ],
 "metadata": {
  "kernelspec": {
   "display_name": "Python 3",
   "language": "python",
   "name": "python3"
  },
  "language_info": {
   "codemirror_mode": {
    "name": "ipython",
    "version": 3
   },
   "file_extension": ".py",
   "mimetype": "text/x-python",
   "name": "python",
   "nbconvert_exporter": "python",
   "pygments_lexer": "ipython3",
   "version": "3.7.4"
  }
 },
 "nbformat": 4,
 "nbformat_minor": 2
}
