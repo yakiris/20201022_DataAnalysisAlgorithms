{
 "cells": [
  {
   "cell_type": "markdown",
   "metadata": {},
   "source": [
    "## Тема: Градиентный бустинг. AdaBoost"
   ]
  },
  {
   "cell_type": "code",
   "execution_count": 1,
   "metadata": {},
   "outputs": [],
   "source": [
    "from sklearn import model_selection\n",
    "from sklearn.tree import DecisionTreeRegressor\n",
    "from sklearn.datasets import load_diabetes\n",
    "import matplotlib.pyplot as plt\n",
    "import numpy as np\n",
    "import pandas as pd"
   ]
  },
  {
   "cell_type": "markdown",
   "metadata": {},
   "source": [
    "### 1. Для реализованной модели градиентного бустинга построить графики зависимости ошибки от количества деревьев в ансамбле и от максимальной глубины деревьев. Сделать выводы о зависимости ошибки от этих параметров."
   ]
  },
  {
   "cell_type": "code",
   "execution_count": 2,
   "metadata": {},
   "outputs": [
    {
     "data": {
      "text/plain": [
       "((442, 10), (442,))"
      ]
     },
     "execution_count": 2,
     "metadata": {},
     "output_type": "execute_result"
    }
   ],
   "source": [
    "X, y = load_diabetes(return_X_y=True)\n",
    "X.shape, y.shape"
   ]
  },
  {
   "cell_type": "code",
   "execution_count": 3,
   "metadata": {},
   "outputs": [],
   "source": [
    "X_train, X_test, y_train, y_test = model_selection.train_test_split(X, y, test_size=0.25)"
   ]
  },
  {
   "cell_type": "code",
   "execution_count": 76,
   "metadata": {},
   "outputs": [],
   "source": [
    "def gb_predict(X, trees_list, eta):\n",
    "    # Реализуемый алгоритм градиентного бустинга будет инициализироваться нулевыми значениями,\n",
    "    # поэтому все деревья из списка trees_list уже являются дополнительными и при предсказании\n",
    "    # прибавляются с шагом eta\n",
    "    \n",
    "    predictions = np.zeros(X.shape[0])\n",
    "    for i, x in enumerate(X):\n",
    "        prediction = 0\n",
    "        for alg in trees_list:\n",
    "            prediction += eta * alg.predict([x])[0]\n",
    "        predictions[i] = prediction\n",
    "        \n",
    "#     predictions = np.array(\n",
    "#         [sum([eta * alg.predict([x])[0] for alg in trees_list]) for x in X]\n",
    "#     )\n",
    "\n",
    "    return predictions"
   ]
  },
  {
   "cell_type": "code",
   "execution_count": 5,
   "metadata": {},
   "outputs": [],
   "source": [
    "def mean_squared_error(y_real, prediction):\n",
    "    return (sum((y_real - prediction)**2)) / len(y_real)"
   ]
  },
  {
   "cell_type": "code",
   "execution_count": 6,
   "metadata": {},
   "outputs": [],
   "source": [
    "def residual(y, z):\n",
    "    return - (z - y)"
   ]
  },
  {
   "cell_type": "code",
   "execution_count": 7,
   "metadata": {},
   "outputs": [],
   "source": [
    "def gb_fit(n_trees, max_depth, X_train, X_test, y_train, y_test, eta):\n",
    "    \n",
    "    # Деревья будем записывать в список\n",
    "    trees = []\n",
    "    \n",
    "    # Будем записывать ошибки на обучающей и тестовой выборке на каждой итерации в список\n",
    "    train_errors = []\n",
    "    test_errors = []\n",
    "    \n",
    "    for i in range(n_trees):\n",
    "        tree = DecisionTreeRegressor(max_depth=max_depth, random_state=42)\n",
    "\n",
    "        # первый алгоритм просто обучаем на выборке и добавляем в список\n",
    "        if len(trees) == 0:\n",
    "            # обучаем первое дерево на обучающей выборке\n",
    "            tree.fit(X_train, y_train)\n",
    "            \n",
    "            train_errors.append(mean_squared_error(y_train, gb_predict(X_train, trees, eta)))\n",
    "            test_errors.append(mean_squared_error(y_test, gb_predict(X_test, trees, eta)))\n",
    "        else:\n",
    "            # Получим ответы на текущей композиции\n",
    "            target = gb_predict(X_train, trees, eta)\n",
    "            \n",
    "            # алгоритмы начиная со второго обучаем на сдвиг\n",
    "            tree.fit(X_train, residual(y_train, target))\n",
    "            \n",
    "            train_errors.append(mean_squared_error(y_train, gb_predict(X_train, trees, eta)))\n",
    "            test_errors.append(mean_squared_error(y_test, gb_predict(X_test, trees, eta)))\n",
    "\n",
    "        trees.append(tree)\n",
    "        \n",
    "    return trees, train_errors, test_errors"
   ]
  },
  {
   "cell_type": "code",
   "execution_count": 8,
   "metadata": {},
   "outputs": [],
   "source": [
    "# ИЗМЕНЕНО\n",
    "def evaluate_alg(X_train, X_test, y_train, y_test, trees, eta):\n",
    "    \n",
    "    train_prediction = gb_predict(X_train, trees, eta)\n",
    "    mse_train = mean_squared_error(y_train, train_prediction)\n",
    "\n",
    "    test_prediction = gb_predict(X_test, trees, eta)\n",
    "    mse_test = mean_squared_error(y_test, test_prediction)\n",
    "    \n",
    "\n",
    "    return mse_train, mse_test"
   ]
  },
  {
   "cell_type": "code",
   "execution_count": 28,
   "metadata": {},
   "outputs": [
    {
     "data": {
      "image/png": "[encoded data removed]",
      "text/plain": [
       "<Figure size 432x288 with 1 Axes>"
      ]
     },
     "metadata": {
      "needs_background": "light"
     },
     "output_type": "display_data"
    }
   ],
   "source": [
    "# ИЗМЕНЕНО\n",
    "\n",
    "# Число деревьев в ансамбле\n",
    "n_trees = [i for i in range(0, 46, 5)]\n",
    "\n",
    "# Максимальная глубина деревьев\n",
    "max_depth = 1\n",
    "\n",
    "# Шаг\n",
    "eta = 1\n",
    "\n",
    "train_err = []\n",
    "test_err = []\n",
    "\n",
    "for j in n_trees:\n",
    "    trees, train_errors, test_errors = gb_fit(j, max_depth, X_train, X_test, y_train, y_test, eta)\n",
    "    ea = evaluate_alg(X_train, X_test, y_train, y_test, trees, eta)\n",
    "    train_err.append(ea[0])\n",
    "    test_err.append(ea[1])\n",
    "    \n",
    "    \n",
    "plt.xlabel('Number trees')\n",
    "plt.ylabel('MSE')\n",
    "plt.xlim(0, n_trees[-1])\n",
    "plt.plot(n_trees, train_err, label='train error')\n",
    "plt.plot(n_trees, test_err, label='test error')\n",
    "plt.legend(loc='upper right')\n",
    "plt.show()"
   ]
  },
  {
   "cell_type": "code",
   "execution_count": 27,
   "metadata": {},
   "outputs": [
    {
     "data": {
      "text/html": [
       "<div>\n",
       "<style scoped>\n",
       "    .dataframe tbody tr th:only-of-type {\n",
       "        vertical-align: middle;\n",
       "    }\n",
       "\n",
       "    .dataframe tbody tr th {\n",
       "        vertical-align: top;\n",
       "    }\n",
       "\n",
       "    .dataframe thead th {\n",
       "        text-align: right;\n",
       "    }\n",
       "</style>\n",
       "<table border=\"1\" class=\"dataframe\">\n",
       "  <thead>\n",
       "    <tr style=\"text-align: right;\">\n",
       "      <th></th>\n",
       "      <th>trees</th>\n",
       "      <th>train_err</th>\n",
       "      <th>test_err</th>\n",
       "    </tr>\n",
       "  </thead>\n",
       "  <tbody>\n",
       "    <tr>\n",
       "      <th>0</th>\n",
       "      <td>0</td>\n",
       "      <td>28416.30</td>\n",
       "      <td>31037.17</td>\n",
       "    </tr>\n",
       "    <tr>\n",
       "      <th>1</th>\n",
       "      <td>5</td>\n",
       "      <td>2979.86</td>\n",
       "      <td>3719.13</td>\n",
       "    </tr>\n",
       "    <tr>\n",
       "      <th>2</th>\n",
       "      <td>10</td>\n",
       "      <td>2669.53</td>\n",
       "      <td>3725.40</td>\n",
       "    </tr>\n",
       "    <tr>\n",
       "      <th>3</th>\n",
       "      <td>15</td>\n",
       "      <td>2475.72</td>\n",
       "      <td>3671.65</td>\n",
       "    </tr>\n",
       "    <tr>\n",
       "      <th>4</th>\n",
       "      <td>20</td>\n",
       "      <td>2322.58</td>\n",
       "      <td>3422.88</td>\n",
       "    </tr>\n",
       "    <tr>\n",
       "      <th>5</th>\n",
       "      <td>25</td>\n",
       "      <td>2227.79</td>\n",
       "      <td>3390.47</td>\n",
       "    </tr>\n",
       "    <tr>\n",
       "      <th>6</th>\n",
       "      <td>30</td>\n",
       "      <td>2133.38</td>\n",
       "      <td>3421.68</td>\n",
       "    </tr>\n",
       "  </tbody>\n",
       "</table>\n",
       "</div>"
      ],
      "text/plain": [
       "   trees  train_err  test_err\n",
       "0      0   28416.30  31037.17\n",
       "1      5    2979.86   3719.13\n",
       "2     10    2669.53   3725.40\n",
       "3     15    2475.72   3671.65\n",
       "4     20    2322.58   3422.88\n",
       "5     25    2227.79   3390.47\n",
       "6     30    2133.38   3421.68"
      ]
     },
     "execution_count": 27,
     "metadata": {},
     "output_type": "execute_result"
    }
   ],
   "source": [
    "df_trees = pd.DataFrame({'trees':n_trees, 'train_err':np.round(train_err, 2), 'test_err':np.round(test_err, 2)})\n",
    "df_trees"
   ]
  },
  {
   "cell_type": "code",
   "execution_count": 90,
   "metadata": {},
   "outputs": [
    {
     "data": {
      "image/png": "[encoded data removed]",
      "text/plain": [
       "<Figure size 432x288 with 1 Axes>"
      ]
     },
     "metadata": {
      "needs_background": "light"
     },
     "output_type": "display_data"
    }
   ],
   "source": [
    "# Число деревьев в ансамбле\n",
    "n_trees = 10\n",
    "\n",
    "# Максимальная глубина деревьев\n",
    "max_depth = [i for i in range(1, 10)]\n",
    "\n",
    "# Шаг\n",
    "eta = 1\n",
    "\n",
    "train_err = []\n",
    "test_err = []\n",
    "\n",
    "for k in max_depth:\n",
    "    trees, train_errors, test_errors = gb_fit(n_trees, k, X_train, X_test, y_train, y_test, eta)\n",
    "    ea = evaluate_alg(X_train, X_test, y_train, y_test, trees, eta)\n",
    "    train_err.append(ea[0])\n",
    "    test_err.append(ea[1])\n",
    "    \n",
    "    \n",
    "plt.xlabel('Max depth')\n",
    "plt.ylabel('MSE')\n",
    "plt.xlim(1, max_depth[-1])\n",
    "plt.plot(max_depth, train_err, label='train error')\n",
    "plt.plot(max_depth, test_err, label='test error')\n",
    "plt.legend(loc='upper right')\n",
    "plt.show()"
   ]
  },
  {
   "cell_type": "code",
   "execution_count": 91,
   "metadata": {},
   "outputs": [
    {
     "data": {
      "text/html": [
       "<div>\n",
       "<style scoped>\n",
       "    .dataframe tbody tr th:only-of-type {\n",
       "        vertical-align: middle;\n",
       "    }\n",
       "\n",
       "    .dataframe tbody tr th {\n",
       "        vertical-align: top;\n",
       "    }\n",
       "\n",
       "    .dataframe thead th {\n",
       "        text-align: right;\n",
       "    }\n",
       "</style>\n",
       "<table border=\"1\" class=\"dataframe\">\n",
       "  <thead>\n",
       "    <tr style=\"text-align: right;\">\n",
       "      <th></th>\n",
       "      <th>max_depth</th>\n",
       "      <th>train_err</th>\n",
       "      <th>test_err</th>\n",
       "    </tr>\n",
       "  </thead>\n",
       "  <tbody>\n",
       "    <tr>\n",
       "      <th>0</th>\n",
       "      <td>1</td>\n",
       "      <td>2575.47</td>\n",
       "      <td>3694.27</td>\n",
       "    </tr>\n",
       "    <tr>\n",
       "      <th>1</th>\n",
       "      <td>2</td>\n",
       "      <td>1686.83</td>\n",
       "      <td>4325.15</td>\n",
       "    </tr>\n",
       "    <tr>\n",
       "      <th>2</th>\n",
       "      <td>3</td>\n",
       "      <td>1128.83</td>\n",
       "      <td>5241.53</td>\n",
       "    </tr>\n",
       "    <tr>\n",
       "      <th>3</th>\n",
       "      <td>4</td>\n",
       "      <td>457.89</td>\n",
       "      <td>7053.40</td>\n",
       "    </tr>\n",
       "    <tr>\n",
       "      <th>4</th>\n",
       "      <td>5</td>\n",
       "      <td>79.89</td>\n",
       "      <td>7433.59</td>\n",
       "    </tr>\n",
       "    <tr>\n",
       "      <th>5</th>\n",
       "      <td>6</td>\n",
       "      <td>12.12</td>\n",
       "      <td>9865.00</td>\n",
       "    </tr>\n",
       "    <tr>\n",
       "      <th>6</th>\n",
       "      <td>7</td>\n",
       "      <td>0.63</td>\n",
       "      <td>8038.04</td>\n",
       "    </tr>\n",
       "    <tr>\n",
       "      <th>7</th>\n",
       "      <td>8</td>\n",
       "      <td>0.06</td>\n",
       "      <td>7219.02</td>\n",
       "    </tr>\n",
       "    <tr>\n",
       "      <th>8</th>\n",
       "      <td>9</td>\n",
       "      <td>0.00</td>\n",
       "      <td>7236.90</td>\n",
       "    </tr>\n",
       "  </tbody>\n",
       "</table>\n",
       "</div>"
      ],
      "text/plain": [
       "   max_depth  train_err  test_err\n",
       "0          1    2575.47   3694.27\n",
       "1          2    1686.83   4325.15\n",
       "2          3    1128.83   5241.53\n",
       "3          4     457.89   7053.40\n",
       "4          5      79.89   7433.59\n",
       "5          6      12.12   9865.00\n",
       "6          7       0.63   8038.04\n",
       "7          8       0.06   7219.02\n",
       "8          9       0.00   7236.90"
      ]
     },
     "execution_count": 91,
     "metadata": {},
     "output_type": "execute_result"
    }
   ],
   "source": [
    "df_depth = pd.DataFrame({'max_depth':max_depth, 'train_err':np.round(train_err, 2), 'test_err':np.round(test_err, 2)})\n",
    "df_depth"
   ]
  },
  {
   "cell_type": "markdown",
   "metadata": {},
   "source": [
    "**Вывод:**  \n",
    "    с увеличением количества деревьев в ансамбле происходит переобучение, точность модели немного ухудшается;  \n",
    "    с увеличением максимальной глубины деверьев происходит сильное переобучение, точность модели ухудшается. "
   ]
  },
  {
   "cell_type": "markdown",
   "metadata": {},
   "source": [
    "### 2. *Модифицировать реализованный алгоритм градиентного бустинга, чтобы получился стохастический градиентный бустинг. Размер подвыборки принять равным 0.5. Сравнить на одном графике кривые изменения ошибки на тестовой выборке в зависимости от числа итераций."
   ]
  },
  {
   "cell_type": "code",
   "execution_count": 120,
   "metadata": {},
   "outputs": [],
   "source": [
    "def sgb_predict(X, trees_list, coef_list, eta):\n",
    "    \n",
    "    predictions = np.zeros(X.shape[0])\n",
    "    for i, x in enumerate(X):\n",
    "        prediction = 0\n",
    "        for alg, coef in zip(trees_list, coef_list):\n",
    "            prediction += eta * coef * alg.predict([x])[0]\n",
    "        predictions[i] = prediction\n",
    "        \n",
    "#     predictions = np.array(\n",
    "#         [sum([eta * coef * alg.predict([x])[0] for alg, coef in zip(trees_list, coef_list)]) for x in X]\n",
    "#     )\n",
    "\n",
    "    return predictions"
   ]
  },
  {
   "cell_type": "code",
   "execution_count": 124,
   "metadata": {},
   "outputs": [],
   "source": [
    "def sgb_fit(n_trees, max_depth, X_train, X_test, y_train, y_test, coefs, size, eta):\n",
    "    \n",
    "    # Деревья будем записывать в список\n",
    "    trees = []\n",
    "    \n",
    "    # Будем записывать ошибки на обучающей и тестовой выборке на каждой итерации в список\n",
    "    train_errors = []\n",
    "    test_errors = []\n",
    "    \n",
    "    np.random.seed(1)\n",
    "    \n",
    "    for i in range(n_trees):\n",
    "        tree = DecisionTreeRegressor(max_depth=max_depth, random_state=42)\n",
    "\n",
    "        # первый алгоритм просто обучаем на выборке и добавляем в список\n",
    "        if len(trees) == 0:\n",
    "            \n",
    "            ind = np.random.choice(range(0, len(X_train)), size)\n",
    "            X_batch, y_batch = X_train[ind], y_train[ind]\n",
    "            \n",
    "            # обучаем первое дерево на обучающей выборке\n",
    "            tree.fit(X_batch, y_batch)\n",
    "            \n",
    "            train_errors.append(mean_squared_error(y_batch, sgb_predict(X_batch, trees, coefs, eta)))\n",
    "            test_errors.append(mean_squared_error(y_test, sgb_predict(X_test, trees, coefs, eta)))\n",
    "        else:\n",
    "            # Получим ответы на текущей композиции\n",
    "            target = sgb_predict(X_batch, trees, coefs, eta)\n",
    "            \n",
    "            # алгоритмы начиная со второго обучаем на сдвиг\n",
    "            tree.fit(X_batch, residual(y_batch, target))\n",
    "            \n",
    "            train_errors.append(mean_squared_error(y_batch, sgb_predict(X_batch, trees, coefs, eta)))\n",
    "            test_errors.append(mean_squared_error(y_test, sgb_predict(X_test, trees, coefs, eta)))\n",
    "\n",
    "        trees.append(tree)\n",
    "        \n",
    "    return trees, train_errors, test_errors"
   ]
  },
  {
   "cell_type": "code",
   "execution_count": 127,
   "metadata": {},
   "outputs": [],
   "source": [
    "n_trees = 10\n",
    "max_depth = 2\n",
    "coefs = [1] * n_trees\n",
    "size=len(X_train)//2\n",
    "eta = 0.1\n",
    "\n",
    "trees, train_errors, test_errors = gb_fit(n_trees, max_depth, X_train, X_test, y_train, y_test, eta)\n",
    "\n",
    "sgb_trees, sgb_train_errors, sgb_test_errors = sgb_fit(n_trees, max_depth, X_train, X_test, y_train, y_test, coefs,size, eta)"
   ]
  },
  {
   "cell_type": "code",
   "execution_count": 128,
   "metadata": {},
   "outputs": [
    {
     "data": {
      "image/png": "[encoded data removed]",
      "text/plain": [
       "<Figure size 432x288 with 1 Axes>"
      ]
     },
     "metadata": {
      "needs_background": "light"
     },
     "output_type": "display_data"
    }
   ],
   "source": [
    "plt.xlabel('Tree')\n",
    "plt.ylabel('MSE')\n",
    "plt.plot(sgb_train_errors, label='sgd train error', linestyle='--')\n",
    "plt.plot(sgb_test_errors, label='sgd test error', linestyle='--')\n",
    "plt.plot(train_errors, label='gd train error')\n",
    "plt.plot(test_errors, label='gd test error')\n",
    "plt.legend(loc='upper right')\n",
    "plt.show()"
   ]
  },
  {
   "cell_type": "code",
   "execution_count": null,
   "metadata": {},
   "outputs": [],
   "source": []
  }
 ],
 "metadata": {
  "kernelspec": {
   "display_name": "Python 3",
   "language": "python",
   "name": "python3"
  },
  "language_info": {
   "codemirror_mode": {
    "name": "ipython",
    "version": 3
   },
   "file_extension": ".py",
   "mimetype": "text/x-python",
   "name": "python",
   "nbconvert_exporter": "python",
   "pygments_lexer": "ipython3",
   "version": "3.8.5"
  }
 },
 "nbformat": 4,
 "nbformat_minor": 4
}
